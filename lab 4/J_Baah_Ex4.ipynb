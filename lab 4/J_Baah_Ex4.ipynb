{
  "cells": [
    {
      "cell_type": "code",
      "execution_count": null,
      "metadata": {
        "id": "4houpSSCXsRh"
      },
      "outputs": [],
      "source": [
        "# ADL Exercise 4"
      ]
    },
    {
      "cell_type": "code",
      "execution_count": 49,
      "metadata": {
        "id": "yWcLTma_eqvR"
      },
      "outputs": [],
      "source": [
        "# This is an implementation of the suggestion in the exercise help document \n",
        "# \n",
        "import keras \n",
        "import gc\n",
        "\n",
        "class CleanUpCallback(keras.callbacks.Callback):\n",
        "\n",
        "  # Callback after each epoch\n",
        "  def on_epoch_end(self,epochs,logs=None):\n",
        "    # print(f\"Loss: {logs['loss']}\")\n",
        "    print(\"Cleaning up after each epoch to save memory\")\n",
        "    gc.collect()"
      ]
    },
    {
      "cell_type": "code",
      "execution_count": null,
      "metadata": {
        "id": "BZSN93p1erE-"
      },
      "outputs": [],
      "source": [
        "# import Dataset from given link\n",
        "# Get dataset from keras \n",
        "import sys\n",
        "from keras.models import Sequential\n",
        "from keras.layers import Conv2D,MaxPooling2D,Dense,Flatten,Dropout\n",
        "from keras.callbacks import EarlyStopping\n",
        "from tensorflow.keras.layers import BatchNormalization\n",
        "import tensorflow as tf\n",
        "\n",
        "\n",
        "from tensorflow.keras.utils import to_categorical\n",
        "from keras.regularizers import l2\n",
        "\n",
        "from tensorflow.keras.preprocessing.image import ImageDataGenerator\n",
        "from tensorflow.keras.models import load_model\n",
        "import matplotlib.pyplot as plt\n",
        "from PIL import Image\n",
        "import numpy as np"
      ]
    },
    {
      "cell_type": "code",
      "execution_count": null,
      "metadata": {
        "id": "Gt_LC64tX0oO"
      },
      "outputs": [],
      "source": []
    },
    {
      "cell_type": "code",
      "execution_count": 50,
      "metadata": {
        "colab": {
          "base_uri": "https://localhost:8080/"
        },
        "id": "WFCW1J98qbZ4",
        "outputId": "3a3467e2-944f-4a0b-9b92-570496f895c5"
      },
      "outputs": [
        {
          "name": "stdout",
          "output_type": "stream",
          "text": [
            "Downloading data from https://www.cs.toronto.edu/~kriz/cifar-10-python.tar.gz\n",
            "170500096/170498071 [==============================] - 2s 0us/step\n",
            "170508288/170498071 [==============================] - 2s 0us/step\n"
          ]
        }
      ],
      "source": [
        "# Load cifar10 dataset\n",
        "from tensorflow.keras.datasets import cifar10\n",
        "(cifar10_feature_train,cifar10_label_train), (cifar10_feature_test,cifar10_label_test)= cifar10.load_data()"
      ]
    },
    {
      "cell_type": "code",
      "execution_count": null,
      "metadata": {
        "id": "Z1Yf4PEZtVyC"
      },
      "outputs": [],
      "source": [
        "# Load MNIST dataset\n",
        "from tensorflow.keras.datasets import mnist\n",
        "(mnist_feature_train,mnist_label_train), (mnist_feature_test,mnist_label_test)= mnist.load_data()"
      ]
    },
    {
      "cell_type": "code",
      "execution_count": null,
      "metadata": {
        "colab": {
          "base_uri": "https://localhost:8080/"
        },
        "id": "S_EBev-QkqbE",
        "outputId": "4a926c07-45ab-44af-ac32-ee11bbad1691"
      },
      "outputs": [
        {
          "data": {
            "text/plain": [
              "(28, 28, 1)"
            ]
          },
          "execution_count": 22,
          "metadata": {},
          "output_type": "execute_result"
        }
      ],
      "source": [
        "mnist_feature_train[1].shape"
      ]
    },
    {
      "cell_type": "code",
      "execution_count": null,
      "metadata": {
        "id": "W0HWyn9A97vo"
      },
      "outputs": [],
      "source": [
        "# Expand dimensions of all mnsit data\n",
        "mnist_feature_train = np.expand_dims(mnist_feature_train,axis=3)\n",
        "mnist_feature_test = np.expand_dims(mnist_feature_test,axis=3)\n"
      ]
    },
    {
      "cell_type": "code",
      "execution_count": 47,
      "metadata": {
        "id": "UUisTgSberh6"
      },
      "outputs": [],
      "source": [
        "# Method to prepare data\n",
        "def prepare_data(x_train,y_train,x_test,y_test):\n",
        "\n",
        "  # One hot encode label values\n",
        "  trainY = to_categorical(y_train)\n",
        "  testY = to_categorical(y_test)\n",
        "\n",
        "  # Normalize feature Data\n",
        "  datagen = ImageDataGenerator(featurewise_std_normalization=True,featurewise_center=True,rescale=1.0/255,validation_split=0.2)\n",
        "  # Fit the data\n",
        "  datagen.fit(x_train[1000:2000])\n",
        "  # Transform train data\n",
        "  train = datagen.flow(x_train,trainY,batch_size=128,seed=10)\n",
        "  # Fit the test data\n",
        "  datagen.fit(x_test[1000:2000])\n",
        "  # Transform test data\n",
        "  test = datagen.flow(x_test,testY,batch_size=128,seed=10)\n",
        "  return train, test"
      ]
    },
    {
      "cell_type": "code",
      "execution_count": 45,
      "metadata": {
        "id": "TWnJj7gEjOha"
      },
      "outputs": [],
      "source": [
        "# define a function to create model\n",
        "# Define our model and configure it with the desired architecture\n",
        "# Choosing 32 filters with a filter size of 3x3 and a stride of 1 for the first Conv layer\n",
        "# 64 filters with filter size of 3x3 and a stride of 1 for the second Conv layer\n",
        "# Initialize the model\n",
        "# scores =[]\n",
        "def create_cifar10_model(train,test):\n",
        "    model = Sequential()\n",
        "    # Add a convolution layer\n",
        "    model.add(Conv2D(32, (3, 3), activation='relu', kernel_initializer='he_uniform', padding='same' , kernel_regularizer=l2(0.001),input_shape=(32, 32, 3)))\n",
        "    # Add BatchNormalization layer\n",
        "    model.add(BatchNormalization())\n",
        "    # Add a pooling layer\n",
        "    model.add(MaxPooling2D((2, 2)))\n",
        "    # Add a dropout layer\n",
        "    model.add(Dropout(0.2))\n",
        "    # Repeat the process\n",
        "    model.add(Conv2D(64, (3, 3), activation='relu', kernel_initializer='he_uniform', padding='same', kernel_regularizer=l2(0.001)))\n",
        "    model.add(BatchNormalization())\n",
        "    model.add(MaxPooling2D((2, 2)))\n",
        "    model.add(Dropout(0.2))\n",
        "    model.add(Flatten())\n",
        "    model.add(Dense(64, activation='relu', kernel_initializer='he_uniform',  kernel_regularizer=l2(0.001)))\n",
        "    model.add(BatchNormalization())\n",
        "    model.add(Dropout(0.2))\n",
        "    # Output Layer\n",
        "    model.add(Dense(10, activation='softmax'))\n",
        "    # Configure the model\n",
        "    model.compile(optimizer='Adam', loss='categorical_crossentropy', metrics=['accuracy'])\n",
        "    # Configure Early Stopping callback\n",
        "    es = EarlyStopping(monitor='loss', min_delta=0, patience=3, verbose=0, mode='auto')    \n",
        "    # Train the model\n",
        "    history = model.fit(train, epochs=50, batch_size=128, verbose=1,validation_data=test,callbacks=[CleanUpCallback(),es])\n",
        "    model.save(\"final_cifar10_model.h5\")\n",
        "    # Print model summary for documentation\n",
        "    model.summary()\n",
        "    return model,history\n"
      ]
    },
    {
      "cell_type": "code",
      "execution_count": null,
      "metadata": {
        "id": "nb-cB01ajOra"
      },
      "outputs": [],
      "source": [
        "# Main entry point for the python application\n",
        "if __name__ == \"__main__\":\n",
        "\n",
        "    print(\"Preparing data...\")\n",
        "    # Generate Data\n",
        "    train,test = prepare_data(cifar10_feature_train,cifar10_label_train,cifar10_feature_test,cifar10_label_test)\n",
        "    print(\"Training model...\")\n",
        "    model,history = create_cifar10_model(train,test)\n",
        "    print(\"Storing scores...\")\n",
        "\n",
        "    plt.plot(history.history[\"val_loss\"],label=\"Loss\")\n",
        "    plt.xlabel(\"epochs\")\n",
        "    plt.ylabel(\"loss\")\n",
        "    plt.title(\"Categorical Cross Entropy Loss for Validation\")\n",
        "    plt.legend()  \n",
        "    plt.show()\n",
        "\n",
        "    plt.plot(history.history[\"val_accuracy\"],label=\"Accuracy\")\n",
        "    plt.title(\"Classification  Validation Accuracy\")\n",
        "    plt.xlabel(\"epochs\")\n",
        "    plt.ylabel(\"accuracy\")\n",
        "    plt.legend()  \n",
        "    plt.show()          \n"
      ]
    },
    {
      "cell_type": "code",
      "execution_count": null,
      "metadata": {
        "id": "gsvbNh_ZjO00"
      },
      "outputs": [],
      "source": []
    },
    {
      "cell_type": "code",
      "execution_count": null,
      "metadata": {
        "id": "lPQFAVU3mteP"
      },
      "outputs": [],
      "source": []
    },
    {
      "cell_type": "code",
      "execution_count": null,
      "metadata": {
        "id": "QGm6fj06mtp0"
      },
      "outputs": [],
      "source": [
        "def create_mnist_model(train,test):\n",
        "    model = Sequential()\n",
        "    # First Conv layer\n",
        "    model.add(Conv2D(32, (3, 3), activation='relu', kernel_initializer='he_uniform', input_shape=(28, 28, 1)))\n",
        "    model.add(BatchNormalization())\n",
        "    model.add(MaxPooling2D((2, 2)))\n",
        "    # Second Conv layer\n",
        "    model.add(Conv2D(32, (3, 3), activation='relu', kernel_initializer='he_uniform'))\n",
        "    model.add(BatchNormalization())\n",
        "    model.add(MaxPooling2D((2, 2)))\n",
        "    # Fully Connected Layer\n",
        "    model.add(Flatten())\n",
        "    model.add(Dense(100, activation='relu', kernel_initializer='he_uniform'))\n",
        "    model.add(BatchNormalization())\n",
        "    \n",
        "    # Output Layer\n",
        "    model.add(Dense(10, activation='softmax'))\n",
        "    # Configure the model\n",
        "    model.compile(optimizer='Adam', loss='categorical_crossentropy', metrics=['accuracy'])\n",
        "    # Configure Early Stopping callback\n",
        "    es = EarlyStopping(monitor='loss', min_delta=0, patience=3, verbose=0, mode='auto')    \n",
        "    # Train the model\n",
        "    history = model.fit(train, epochs=50, batch_size=128, verbose=1,validation_data=test,callbacks=[CleanUpCallback(),es])\n",
        "    model.save(\"final_mnist_model.h5\")\n",
        "    print(model.summary())\n",
        "    return model,history"
      ]
    },
    {
      "cell_type": "code",
      "execution_count": null,
      "metadata": {
        "id": "SPpj0hsvnW-M"
      },
      "outputs": [],
      "source": []
    },
    {
      "cell_type": "code",
      "execution_count": null,
      "metadata": {
        "colab": {
          "base_uri": "https://localhost:8080/",
          "height": 1000
        },
        "id": "yb89dIo4nXCi",
        "outputId": "4a34be30-57a4-45ef-a927-9fedf433a800"
      },
      "outputs": [
        {
          "name": "stdout",
          "output_type": "stream",
          "text": [
            "Preparing data...\n",
            "Training model...\n",
            "Epoch 1/50\n",
            "468/469 [============================>.] - ETA: 0s - loss: 0.1364 - accuracy: 0.9595Cleaning up after each epoch to save memory\n",
            "469/469 [==============================] - 9s 17ms/step - loss: 0.1363 - accuracy: 0.9596 - val_loss: 0.0490 - val_accuracy: 0.9855\n",
            "Epoch 2/50\n",
            "467/469 [============================>.] - ETA: 0s - loss: 0.0420 - accuracy: 0.9878Cleaning up after each epoch to save memory\n",
            "469/469 [==============================] - 7s 16ms/step - loss: 0.0419 - accuracy: 0.9878 - val_loss: 0.0439 - val_accuracy: 0.9861\n",
            "Epoch 3/50\n",
            "466/469 [============================>.] - ETA: 0s - loss: 0.0265 - accuracy: 0.9921Cleaning up after each epoch to save memory\n",
            "469/469 [==============================] - 8s 17ms/step - loss: 0.0266 - accuracy: 0.9921 - val_loss: 0.0400 - val_accuracy: 0.9868\n",
            "Epoch 4/50\n",
            "468/469 [============================>.] - ETA: 0s - loss: 0.0189 - accuracy: 0.9947Cleaning up after each epoch to save memory\n",
            "469/469 [==============================] - 8s 17ms/step - loss: 0.0188 - accuracy: 0.9947 - val_loss: 0.0356 - val_accuracy: 0.9878\n",
            "Epoch 5/50\n",
            "469/469 [==============================] - ETA: 0s - loss: 0.0140 - accuracy: 0.9959Cleaning up after each epoch to save memory\n",
            "469/469 [==============================] - 8s 17ms/step - loss: 0.0140 - accuracy: 0.9959 - val_loss: 0.0386 - val_accuracy: 0.9869\n",
            "Epoch 6/50\n",
            "469/469 [==============================] - ETA: 0s - loss: 0.0120 - accuracy: 0.9963Cleaning up after each epoch to save memory\n",
            "469/469 [==============================] - 8s 16ms/step - loss: 0.0120 - accuracy: 0.9963 - val_loss: 0.0368 - val_accuracy: 0.9884\n",
            "Epoch 7/50\n",
            "469/469 [==============================] - ETA: 0s - loss: 0.0090 - accuracy: 0.9976Cleaning up after each epoch to save memory\n",
            "469/469 [==============================] - 8s 16ms/step - loss: 0.0090 - accuracy: 0.9976 - val_loss: 0.0347 - val_accuracy: 0.9888\n",
            "Epoch 8/50\n",
            "467/469 [============================>.] - ETA: 0s - loss: 0.0060 - accuracy: 0.9985Cleaning up after each epoch to save memory\n",
            "469/469 [==============================] - 8s 16ms/step - loss: 0.0060 - accuracy: 0.9985 - val_loss: 0.0357 - val_accuracy: 0.9876\n",
            "Epoch 9/50\n",
            "467/469 [============================>.] - ETA: 0s - loss: 0.0063 - accuracy: 0.9980Cleaning up after each epoch to save memory\n",
            "469/469 [==============================] - 8s 17ms/step - loss: 0.0063 - accuracy: 0.9980 - val_loss: 0.0436 - val_accuracy: 0.9874\n",
            "Epoch 10/50\n",
            "466/469 [============================>.] - ETA: 0s - loss: 0.0048 - accuracy: 0.9986Cleaning up after each epoch to save memory\n",
            "469/469 [==============================] - 8s 17ms/step - loss: 0.0048 - accuracy: 0.9987 - val_loss: 0.0470 - val_accuracy: 0.9872\n",
            "Epoch 11/50\n",
            "466/469 [============================>.] - ETA: 0s - loss: 0.0040 - accuracy: 0.9990Cleaning up after each epoch to save memory\n",
            "469/469 [==============================] - 8s 16ms/step - loss: 0.0040 - accuracy: 0.9990 - val_loss: 0.0372 - val_accuracy: 0.9897\n",
            "Epoch 12/50\n",
            "466/469 [============================>.] - ETA: 0s - loss: 0.0051 - accuracy: 0.9986Cleaning up after each epoch to save memory\n",
            "469/469 [==============================] - 8s 16ms/step - loss: 0.0051 - accuracy: 0.9986 - val_loss: 0.0322 - val_accuracy: 0.9908\n",
            "Epoch 13/50\n",
            "466/469 [============================>.] - ETA: 0s - loss: 0.0048 - accuracy: 0.9985Cleaning up after each epoch to save memory\n",
            "469/469 [==============================] - 8s 16ms/step - loss: 0.0047 - accuracy: 0.9985 - val_loss: 0.0383 - val_accuracy: 0.9897\n",
            "Epoch 14/50\n",
            "467/469 [============================>.] - ETA: 0s - loss: 0.0044 - accuracy: 0.9987Cleaning up after each epoch to save memory\n",
            "469/469 [==============================] - 8s 17ms/step - loss: 0.0044 - accuracy: 0.9987 - val_loss: 0.0382 - val_accuracy: 0.9886\n",
            "INFO:tensorflow:Assets written to: models/mnist_batch_normalization/assets\n",
            "Model: \"sequential_5\"\n",
            "_________________________________________________________________\n",
            " Layer (type)                Output Shape              Param #   \n",
            "=================================================================\n",
            " conv2d_9 (Conv2D)           (None, 26, 26, 32)        320       \n",
            "                                                                 \n",
            " batch_normalization_10 (Bat  (None, 26, 26, 32)       128       \n",
            " chNormalization)                                                \n",
            "                                                                 \n",
            " max_pooling2d_9 (MaxPooling  (None, 13, 13, 32)       0         \n",
            " 2D)                                                             \n",
            "                                                                 \n",
            " conv2d_10 (Conv2D)          (None, 11, 11, 32)        9248      \n",
            "                                                                 \n",
            " batch_normalization_11 (Bat  (None, 11, 11, 32)       128       \n",
            " chNormalization)                                                \n",
            "                                                                 \n",
            " max_pooling2d_10 (MaxPoolin  (None, 5, 5, 32)         0         \n",
            " g2D)                                                            \n",
            "                                                                 \n",
            " flatten_4 (Flatten)         (None, 800)               0         \n",
            "                                                                 \n",
            " dense_8 (Dense)             (None, 100)               80100     \n",
            "                                                                 \n",
            " batch_normalization_12 (Bat  (None, 100)              400       \n",
            " chNormalization)                                                \n",
            "                                                                 \n",
            " dense_9 (Dense)             (None, 10)                1010      \n",
            "                                                                 \n",
            "=================================================================\n",
            "Total params: 91,334\n",
            "Trainable params: 91,006\n",
            "Non-trainable params: 328\n",
            "_________________________________________________________________\n",
            "None\n"
          ]
        },
        {
          "data": {
            "image/png": "[encoded data removed]",
            "text/plain": [
              "<Figure size 432x288 with 1 Axes>"
            ]
          },
          "metadata": {
            "needs_background": "light"
          },
          "output_type": "display_data"
        },
        {
          "data": {
            "image/png": "[encoded data removed]",
            "text/plain": [
              "<Figure size 432x288 with 1 Axes>"
            ]
          },
          "metadata": {
            "needs_background": "light"
          },
          "output_type": "display_data"
        }
      ],
      "source": [
        "# Main entry point for model training\n",
        "\n",
        "if __name__ == \"__main__\":\n",
        "    \n",
        "    print(\"Preparing data...\")\n",
        "    # Prepare data \n",
        "    train,test = prepare_data(mnist_feature_train,mnist_label_train,mnist_feature_test,mnist_label_test)    \n",
        "    print(\"Training model...\")\n",
        "    model,history = create_mnist_model(train,test)\n",
        "\n",
        "\n",
        "    plt.plot(history.history['val_loss'],label=\"Loss\")\n",
        "    plt.xlabel(\"Epochs\")\n",
        "    plt.ylabel(\"Validation loss(%)\")\n",
        "    plt.title(\"MNIST DATASET Validation loss against Epochs\")\n",
        "    plt.legend()  \n",
        "    plt.show()\n",
        "\n",
        "    # Plot training loss \n",
        "    plt.plot(history.history['val_accuracy'],label=\"Accuracy\")\n",
        "    plt.xlabel(\"Epochs\")\n",
        "    plt.ylabel(\"Validation Accuracy(%)\")\n",
        "    plt.title(\"MNIST DATASET Validation Accuracy against Epochs\")\n",
        "    plt.legend()  \n",
        "    plt.show()"
      ]
    },
    {
      "cell_type": "code",
      "execution_count": null,
      "metadata": {
        "id": "YqBgNnxqnXIK"
      },
      "outputs": [],
      "source": []
    },
    {
      "cell_type": "code",
      "execution_count": null,
      "metadata": {
        "id": "iKeoH-72nXM4"
      },
      "outputs": [],
      "source": []
    },
    {
      "cell_type": "code",
      "execution_count": null,
      "metadata": {
        "id": "QHK3Lc1BnXSE"
      },
      "outputs": [],
      "source": [
        "# CIFAR10 Model Prediction"
      ]
    },
    {
      "cell_type": "code",
      "execution_count": null,
      "metadata": {
        "id": "Kg1wN9MMZ7Jz"
      },
      "outputs": [],
      "source": [
        "# Define a function to load data from file and generate an "
      ]
    },
    {
      "cell_type": "code",
      "execution_count": 17,
      "metadata": {
        "id": "89WbPmnqthDQ"
      },
      "outputs": [],
      "source": [
        "from tensorflow.keras.preprocessing.image import load_img,img_to_array\n",
        "def load_prediction_image(path,target_size,colormode =\"rgb\"): \n",
        "  image = load_img(path,color_mode=colormode,target_size=target_size)\n",
        "  image = img_to_array(image)\n",
        "  return image"
      ]
    },
    {
      "cell_type": "code",
      "execution_count": 19,
      "metadata": {
        "id": "mtYjoeOaZ7XQ"
      },
      "outputs": [],
      "source": [
        "m_test = load_prediction_image(\"handwritten6.jpg\",(28,28),\"grayscale\")\n",
        "c_test  = load_prediction_image(\"dog.jpg\",(32,32))"
      ]
    },
    {
      "cell_type": "code",
      "execution_count": 22,
      "metadata": {
        "colab": {
          "base_uri": "https://localhost:8080/",
          "height": 283
        },
        "id": "MrVX2_8te4Kb",
        "outputId": "9b37f527-5889-40ad-e5da-87f3b45aa28d"
      },
      "outputs": [
        {
          "data": {
            "text/plain": [
              "<matplotlib.image.AxesImage at 0x7fec8cf5fe90>"
            ]
          },
          "execution_count": 22,
          "metadata": {},
          "output_type": "execute_result"
        },
        {
          "data": {
            "image/png": "[encoded data removed]",
            "text/plain": [
              "<Figure size 432x288 with 1 Axes>"
            ]
          },
          "metadata": {
            "needs_background": "light"
          },
          "output_type": "display_data"
        }
      ],
      "source": [
        "plt.imshow(c_test.astype(\"uint8\"))"
      ]
    },
    {
      "cell_type": "code",
      "execution_count": 20,
      "metadata": {
        "colab": {
          "base_uri": "https://localhost:8080/",
          "height": 282
        },
        "id": "dgOteUFUUJip",
        "outputId": "5b1b49cb-35e0-439a-93c1-448cca8e18d8"
      },
      "outputs": [
        {
          "data": {
            "text/plain": [
              "<matplotlib.image.AxesImage at 0x7fec8cfe8390>"
            ]
          },
          "execution_count": 20,
          "metadata": {},
          "output_type": "execute_result"
        },
        {
          "data": {
            "image/png": "[encoded data removed]",
            "text/plain": [
              "<Figure size 432x288 with 1 Axes>"
            ]
          },
          "metadata": {
            "needs_background": "light"
          },
          "output_type": "display_data"
        }
      ],
      "source": [
        "plt.imshow(tf.squeeze(m_test))"
      ]
    },
    {
      "cell_type": "code",
      "execution_count": 23,
      "metadata": {
        "id": "kj8nRrIYwPUY"
      },
      "outputs": [],
      "source": [
        "# Augment image data\n",
        "def augment_image(image,augmentation_method):\n",
        "  datagen = ImageDataGenerator(featurewise_std_normalization=True,featurewise_center=True)\n",
        "  augmented_image = datagen.apply_transform(image,{augmentation_method:True})\n",
        "  plt.imshow(augmented_image)\n",
        "  return augmented_image"
      ]
    },
    {
      "cell_type": "code",
      "execution_count": 24,
      "metadata": {
        "colab": {
          "base_uri": "https://localhost:8080/",
          "height": 265
        },
        "id": "RB0CSkqWWc0Y",
        "outputId": "1c4e19c0-6639-43dc-ea8a-fe6527bb5205"
      },
      "outputs": [
        {
          "data": {
            "image/png": "[encoded data removed]",
            "text/plain": [
              "<Figure size 432x288 with 1 Axes>"
            ]
          },
          "metadata": {
            "needs_background": "light"
          },
          "output_type": "display_data"
        }
      ],
      "source": [
        "mnist_vertical_flipped = augment_image(tf.squeeze(m_test),\"flip_vertical\")"
      ]
    },
    {
      "cell_type": "code",
      "execution_count": 25,
      "metadata": {
        "colab": {
          "base_uri": "https://localhost:8080/",
          "height": 265
        },
        "id": "C7_Br2jIb8DL",
        "outputId": "36efbb43-c930-48e6-a507-1c1626ef65f0"
      },
      "outputs": [
        {
          "data": {
            "image/png": "[encoded data removed]",
            "text/plain": [
              "<Figure size 432x288 with 1 Axes>"
            ]
          },
          "metadata": {
            "needs_background": "light"
          },
          "output_type": "display_data"
        }
      ],
      "source": [
        "mnist_horizontal_flipped = augment_image(tf.squeeze(m_test),\"flip_horizontal\")"
      ]
    },
    {
      "cell_type": "code",
      "execution_count": 26,
      "metadata": {
        "colab": {
          "base_uri": "https://localhost:8080/",
          "height": 266
        },
        "id": "fSvLhe35aYPX",
        "outputId": "0f0635f9-9011-4c04-afe1-91644e95de8d"
      },
      "outputs": [
        {
          "data": {
            "image/png": "[encoded data removed]",
            "text/plain": [
              "<Figure size 432x288 with 1 Axes>"
            ]
          },
          "metadata": {
            "needs_background": "light"
          },
          "output_type": "display_data"
        }
      ],
      "source": [
        "cifar10_vertical_flipped = augment_image(c_test.astype(\"uint8\"),\"flip_vertical\")"
      ]
    },
    {
      "cell_type": "code",
      "execution_count": 27,
      "metadata": {
        "colab": {
          "base_uri": "https://localhost:8080/",
          "height": 266
        },
        "id": "Yb_fW0s9b2Bj",
        "outputId": "cf180c07-e1bd-4453-b0aa-fc62afa9c0e3"
      },
      "outputs": [
        {
          "data": {
            "image/png": "[encoded data removed]",
            "text/plain": [
              "<Figure size 432x288 with 1 Axes>"
            ]
          },
          "metadata": {
            "needs_background": "light"
          },
          "output_type": "display_data"
        }
      ],
      "source": [
        "cifar10_horizontal_flipped = augment_image(c_test.astype(\"uint8\"),\"flip_horizontal\")"
      ]
    },
    {
      "cell_type": "code",
      "execution_count": null,
      "metadata": {
        "id": "h50dx62stK7u"
      },
      "outputs": [],
      "source": [
        "def make_prediction(model,image):\n",
        "  # Make sure the image shape fits expected shape of the model\n",
        "  image = np.expand_dims(image,axis=0)\n",
        "  prediction = model.predict(image)\n",
        "  prediction = np.argmax(prediction)\n",
        "  return prediction"
      ]
    },
    {
      "cell_type": "code",
      "execution_count": 58,
      "metadata": {
        "id": "bINATTTGEoNn"
      },
      "outputs": [],
      "source": [
        "# Load CIFAR10 trained model\n",
        "c10_model = load_model(\"final_cifar10_model.h5\")\n",
        "c10_model.evaluate()"
      ]
    },
    {
      "cell_type": "code",
      "execution_count": null,
      "metadata": {
        "id": "sQFwW4rcETYx"
      },
      "outputs": [],
      "source": [
        "# Load MNIST trained model\n",
        "m_model = load_model(\"final_mnist_model.h5\")"
      ]
    },
    {
      "cell_type": "code",
      "execution_count": null,
      "metadata": {
        "colab": {
          "base_uri": "https://localhost:8080/"
        },
        "id": "Ap6UTvNGJDp2",
        "outputId": "43726e64-8110-4cb4-9298-0c6baf6cceeb"
      },
      "outputs": [
        {
          "data": {
            "text/plain": [
              "6"
            ]
          },
          "execution_count": 9,
          "metadata": {},
          "output_type": "execute_result"
        }
      ],
      "source": [
        "# Make prediction on the image of the number 6\n",
        "make_prediction(m_model,m_test)"
      ]
    },
    {
      "cell_type": "code",
      "execution_count": null,
      "metadata": {
        "colab": {
          "base_uri": "https://localhost:8080/"
        },
        "id": "RhBzVl88r42h",
        "outputId": "1c4c5833-7172-4aa1-86de-19888b83d095"
      },
      "outputs": [
        {
          "data": {
            "text/plain": [
              "8"
            ]
          },
          "execution_count": 14,
          "metadata": {},
          "output_type": "execute_result"
        }
      ],
      "source": [
        "# Predict vertically flipped image of the number 6\n",
        "make_prediction(m_model,mnist_vertical_flipped)"
      ]
    },
    {
      "cell_type": "code",
      "execution_count": null,
      "metadata": {
        "colab": {
          "base_uri": "https://localhost:8080/"
        },
        "id": "FGjjvSa5wE-c",
        "outputId": "a13cfc93-03f8-46a1-e917-6256b7591eff"
      },
      "outputs": [
        {
          "data": {
            "text/plain": [
              "3"
            ]
          },
          "execution_count": 16,
          "metadata": {},
          "output_type": "execute_result"
        }
      ],
      "source": [
        "# Predict horizontally flipped image of the number 6\n",
        "make_prediction(m_model,mnist_horizontal_flipped)"
      ]
    },
    {
      "cell_type": "code",
      "execution_count": null,
      "metadata": {
        "id": "cFd6hRYXv3Fx"
      },
      "outputs": [],
      "source": [
        "# CIFAR10 LABEL LIST\n",
        "# 0 - Aeroplane\n",
        "# 1 - Automobile\n",
        "# 2 - Bird\n",
        "# 3 - Cat\n",
        "# 4 - Deer\n",
        "# 5 - Dog\n",
        "# 6 - Frog\n",
        "# 7 - Horse\n",
        "# 8 - Ship\n",
        "# 9 - Truck"
      ]
    },
    {
      "cell_type": "code",
      "execution_count": null,
      "metadata": {
        "id": "JS6xSbSxiekP"
      },
      "outputs": [],
      "source": [
        "# CIFAR10 Model tests"
      ]
    },
    {
      "cell_type": "code",
      "execution_count": 61,
      "metadata": {
        "colab": {
          "base_uri": "https://localhost:8080/"
        },
        "id": "nJPZ0CLXETRE",
        "outputId": "467311ba-fbec-42f1-a8c4-c9cca944b367"
      },
      "outputs": [
        {
          "data": {
            "text/plain": [
              "5"
            ]
          },
          "execution_count": 61,
          "metadata": {},
          "output_type": "execute_result"
        }
      ],
      "source": [
        "# Prediction of 5 means the model identified a dog\n",
        "make_prediction(c10_model,c_test)"
      ]
    },
    {
      "cell_type": "code",
      "execution_count": 60,
      "metadata": {
        "colab": {
          "base_uri": "https://localhost:8080/"
        },
        "id": "XlLufuVotK1T",
        "outputId": "8317738c-7b6b-4750-9dca-ccdd4941ee46"
      },
      "outputs": [
        {
          "data": {
            "text/plain": [
              "1"
            ]
          },
          "execution_count": 60,
          "metadata": {},
          "output_type": "execute_result"
        }
      ],
      "source": [
        "# Make prediction on vertically flipped dog image\n",
        "make_prediction(c10_model,cifar10_vertical_flipped)"
      ]
    },
    {
      "cell_type": "code",
      "execution_count": 55,
      "metadata": {
        "colab": {
          "base_uri": "https://localhost:8080/"
        },
        "id": "lkWsoJtDuz-1",
        "outputId": "556292db-e70a-412f-b3e3-e7ac1256fcc7"
      },
      "outputs": [
        {
          "data": {
            "text/plain": [
              "8"
            ]
          },
          "execution_count": 55,
          "metadata": {},
          "output_type": "execute_result"
        }
      ],
      "source": [
        "# Make prediction on horizontally flipped dog image\n",
        "make_prediction(c10_model,cifar10_horizontal_flipped)"
      ]
    },
    {
      "cell_type": "code",
      "execution_count": null,
      "metadata": {
        "id": "Z9kvpitSwGVP"
      },
      "outputs": [],
      "source": []
    }
  ],
  "metadata": {
    "accelerator": "GPU",
    "colab": {
      "collapsed_sections": [],
      "name": "J_Baah_Ex4.ipynb",
      "provenance": []
    },
    "kernelspec": {
      "display_name": "Python 3",
      "name": "python3"
    },
    "language_info": {
      "name": "python"
    }
  },
  "nbformat": 4,
  "nbformat_minor": 0
}
